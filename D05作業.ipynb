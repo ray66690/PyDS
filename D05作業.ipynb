{
 "cells": [
  {
   "cell_type": "markdown",
   "metadata": {
    "id": "oef8c2jr-PZY"
   },
   "source": [
    "作業目標<br>\n",
    "計算有缺失值的資料，統計量實作<br>\n",
    "作業重點<br>\n",
    "當遇到缺失值有函式可以處理，不須額外寫程式刪除<br>\n",
    "計算統計量時不能出現缺失值"
   ]
  },
  {
   "cell_type": "markdown",
   "metadata": {
    "id": "4YgL8NF4-Ru3"
   },
   "source": [
    "題目:<br>\n",
    "english_score = np.array([55,89,76,65,48,70])<br>\n",
    "math_score = np.array([60,85,60,68,np.nan,60])<br>\n",
    "chinese_score = np.array([65,90,82,72,66,77])<br>\n",
    "上3列共六位同學的英文、數學、國文成績，第一個元素代表第一位同學，舉例第一位同學英文55分、數學60分、國文65分，今天第五位同學因某原因沒來考試，導致數學成績缺值，運用上列數據回答下列問題。<br>\n",
    "1. 請計算各科成績平均、最大值、最小值、標準差，其中數學缺一筆資料可忽略?\n",
    "2. 第五位同學補考數學後成績為55，請計算補考後數學成績平均、最大值、最小值、標準差?\n",
    "3. 用補考後資料找出與國文成績相關係數最高的學科?"
   ]
  },
  {
   "cell_type": "code",
   "execution_count": 1,
   "metadata": {
    "executionInfo": {
     "elapsed": 617,
     "status": "ok",
     "timestamp": 1609854566856,
     "user": {
      "displayName": "献竤黃",
      "photoUrl": "",
      "userId": "07529243043474362942"
     },
     "user_tz": -480
    },
    "id": "QwsKU8qO-RK7"
   },
   "outputs": [],
   "source": [
    "import numpy as np"
   ]
  },
  {
   "cell_type": "code",
   "execution_count": 2,
   "metadata": {
    "executionInfo": {
     "elapsed": 1016,
     "status": "ok",
     "timestamp": 1609854567261,
     "user": {
      "displayName": "献竤黃",
      "photoUrl": "",
      "userId": "07529243043474362942"
     },
     "user_tz": -480
    },
    "id": "B5BqDQAe_czh"
   },
   "outputs": [],
   "source": [
    "english_score = np.array([55,89,76,65,48,70])\n",
    "math_score = np.array([60,85,60,68,np.nan,60])\n",
    "chinese_score = np.array([65,90,82,72,66,77])"
   ]
  },
  {
   "cell_type": "code",
   "execution_count": 3,
   "metadata": {
    "executionInfo": {
     "elapsed": 1005,
     "status": "ok",
     "timestamp": 1609854567262,
     "user": {
      "displayName": "献竤黃",
      "photoUrl": "",
      "userId": "07529243043474362942"
     },
     "user_tz": -480
    },
    "id": "K3tUA6u9aI3N"
   },
   "outputs": [
    {
     "name": "stdout",
     "output_type": "stream",
     "text": [
      "English Average: 67.17 \n",
      "Math Average: 66.60 \n",
      "Chinese Average: 75.33 \n",
      "\n",
      "English Higest Score: 89\n",
      "Math Higest Score: 85.0\n",
      "Chinese Higest Score: 90\n",
      "\n",
      "English lowest Score: 48\n",
      "Math lowest Score: 60.0\n",
      "Chinese lowest Score: 65\n",
      "\n",
      "English Standard deviation: 13.43\n",
      "\n",
      "Math Standard deviation:  9.71\n",
      "\n",
      "Chinese Standard deviation:  8.83\n",
      "\n"
     ]
    }
   ],
   "source": [
    "#1. 請計算各科成績平均、最大值、最小值、標準差，其中數學缺一筆資料可忽略?\n",
    "def Average(subject,arr):\n",
    "    print(f'{subject.capitalize()} Average: {np.nanmean(arr):5.2f} ')\n",
    "\n",
    "def Maximum(subject,arr):\n",
    "    print(f'{subject.capitalize()} Higest Score: {np.nanmax(arr)}')\n",
    "\n",
    "def Minimum(subject,arr):\n",
    "    print(f'{subject.capitalize()} lowest Score: {np.nanmin(arr)}')\n",
    "\n",
    "def Standard(subject,arr):\n",
    "    print(f'{subject.capitalize()} Standard deviation: {np.nanstd(arr):5.2f}')\n",
    "\n",
    "print() \n",
    "Average('english',english_score)\n",
    "Average('math',math_score)\n",
    "Average('chinese',chinese_score)\n",
    "print()\n",
    "Maximum('english',english_score)\n",
    "Maximum('math',math_score)\n",
    "Maximum('chinese',chinese_score)\n",
    "print()\n",
    "Minimum('english',english_score)\n",
    "Minimum('math',math_score)\n",
    "Minimum('chinese',chinese_score)\n",
    "print()\n",
    "Standard('english',english_score)\n",
    "Standard('math',math_score)\n",
    "Standard('chinese',chinese_score)"
   ]
  },
  {
   "cell_type": "code",
   "execution_count": 4,
   "metadata": {
    "executionInfo": {
     "elapsed": 996,
     "status": "ok",
     "timestamp": 1609854567262,
     "user": {
      "displayName": "献竤黃",
      "photoUrl": "",
      "userId": "07529243043474362942"
     },
     "user_tz": -480
    },
    "id": "mXjDzvSrbLlf"
   },
   "outputs": [
    {
     "name": "stdout",
     "output_type": "stream",
     "text": [
      "\n",
      "English Average: 67.17 \n",
      "Math Average: 64.67 \n",
      "Chinese Average: 75.33 \n",
      "\n",
      "English Higest Score: 89\n",
      "Math Higest Score: 85.0\n",
      "Chinese Higest Score: 90\n",
      "\n",
      "English lowest Score: 48\n",
      "Math lowest Score: 55.0\n",
      "Chinese lowest Score: 65\n",
      "\n",
      "English Standard deviation: 13.43\n",
      "\n",
      "Math Standard deviation:  9.86\n",
      "\n",
      "Chinese Standard deviation:  8.83\n",
      "\n"
     ]
    }
   ],
   "source": [
    "#2. 第五位同學補考數學後成績為55，請計算補考後數學成績平均、最大值、最小值、標準差?\n",
    "math_score[4]=55\n",
    "print() \n",
    "Average('english',english_score)\n",
    "Average('math',math_score)\n",
    "Average('chinese',chinese_score)\n",
    "print()\n",
    "Maximum('english',english_score)\n",
    "Maximum('math',math_score)\n",
    "Maximum('chinese',chinese_score)\n",
    "print()\n",
    "Minimum('english',english_score)\n",
    "Minimum('math',math_score)\n",
    "Minimum('chinese',chinese_score)\n",
    "print()\n",
    "Standard('english',english_score)\n",
    "Standard('math',math_score)\n",
    "Standard('chinese',chinese_score)"
   ]
  },
  {
   "cell_type": "code",
   "execution_count": 5,
   "metadata": {
    "executionInfo": {
     "elapsed": 989,
     "status": "ok",
     "timestamp": 1609854567264,
     "user": {
      "displayName": "献竤黃",
      "photoUrl": "",
      "userId": "07529243043474362942"
     },
     "user_tz": -480
    },
    "id": "SaGolKx0cKoU"
   },
   "outputs": [
    {
     "name": "stdout",
     "output_type": "stream",
     "text": [
      "English!\n"
     ]
    }
   ],
   "source": [
    "#3. 用補考後資料找出與國文成績相關係數最高的學科?\n",
    "english_cor = np.corrcoef(chinese_score,english_score)\n",
    "math_cor = np.corrcoef(chinese_score,math_score)\n",
    "\n",
    "if np.any(np.greater(english_cor,math_cor)):\n",
    "    print('English!')\n",
    "else:\n",
    "    print('Math!')"
   ]
  },
  {
   "cell_type": "code",
   "execution_count": null,
   "metadata": {},
   "outputs": [],
   "source": []
  }
 ],
 "metadata": {
  "colab": {
   "authorship_tag": "ABX9TyPtywwDR7TsGGEOMGYLDT5h",
   "collapsed_sections": [],
   "name": "作業Hong題目.ipynb",
   "provenance": []
  },
  "kernelspec": {
   "display_name": "Python 3",
   "language": "python",
   "name": "python3"
  },
  "language_info": {
   "codemirror_mode": {
    "name": "ipython",
    "version": 3
   },
   "file_extension": ".py",
   "mimetype": "text/x-python",
   "name": "python",
   "nbconvert_exporter": "python",
   "pygments_lexer": "ipython3",
   "version": "3.8.2"
  }
 },
 "nbformat": 4,
 "nbformat_minor": 1
}
