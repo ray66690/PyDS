{
 "cells": [
  {
   "cell_type": "markdown",
   "metadata": {
    "id": "CcQnaVToJoMC"
   },
   "source": [
    "作業目標<br>\n",
    "熟悉陣列維度轉換，並且會擷取需要資料<br>\n",
    "作業重點<br>\n",
    "使用reshap須注意order用法<br>\n",
    "where可以運用邏輯條件擷取資料"
   ]
  },
  {
   "cell_type": "markdown",
   "metadata": {
    "id": "JKtCM_7rJqUp"
   },
   "source": [
    "題目:<br>\n",
    "1.將下列陣列(array1)，轉成維度為(5X6)的array，順序按列填充。(hint:order=\"F\")<br>\n",
    "2.呈上題的array，找出被6除餘1的數的索引<br>"
   ]
  },
  {
   "cell_type": "code",
   "execution_count": 6,
   "metadata": {
    "id": "9U3itXkFKqV4"
   },
   "outputs": [],
   "source": [
    "import numpy as np"
   ]
  },
  {
   "cell_type": "code",
   "execution_count": 7,
   "metadata": {
    "id": "kLjyVid_JpIC"
   },
   "outputs": [
    {
     "name": "stdout",
     "output_type": "stream",
     "text": [
      "Oringianl Array: \n",
      " [[ 0  5 10 15 20 25]\n",
      " [ 1  6 11 16 21 26]\n",
      " [ 2  7 12 17 22 27]\n",
      " [ 3  8 13 18 23 28]\n",
      " [ 4  9 14 19 24 29]]\n"
     ]
    }
   ],
   "source": [
    "#1.將下列清單(list1)，轉成維度為(5X6)的array，順序按列填充。(hint:order=\"F\")\n",
    "array1 = np.array(range(30)).reshape(5,6,order='F')\n",
    "print('Oringianl Array: \\n',array1)"
   ]
  },
  {
   "cell_type": "code",
   "execution_count": 8,
   "metadata": {
    "id": "X1PZ16iqXWOe"
   },
   "outputs": [],
   "source": [
    "#2.呈上題的array，找出被6除餘1的數的索引\n",
    "'''\n",
    "#找出陣列中，除6餘1的數(回傳值為index),並將index轉換為二維陣列\n",
    "np.where(array1%6==1)\n",
    "'''\n",
    "index_arr = np.vstack(np.where(array1%6==1))"
   ]
  },
  {
   "cell_type": "code",
   "execution_count": 9,
   "metadata": {
    "id": "XvRQhJxNxRPd"
   },
   "outputs": [
    {
     "name": "stdout",
     "output_type": "stream",
     "text": [
      "被6除餘1的數為: 25, 索引位置：[0],[5]\n",
      "被6除餘1的數為: 1, 索引位置：[1],[0]\n",
      "被6除餘1的數為: 7, 索引位置：[2],[1]\n",
      "被6除餘1的數為: 13, 索引位置：[3],[2]\n",
      "被6除餘1的數為: 19, 索引位置：[4],[3]\n"
     ]
    }
   ],
   "source": [
    "'''\n",
    "# 利用陣列分割，找出數字在array1的位置,array1[row][column]\n",
    "np.split(index_arr,5,axis=1)  #切割陣列為1x2，代表[row,column]\n",
    "'''\n",
    "for row in np.split(index_arr,5,axis=1):  # 取出1x2 陣列(row)\n",
    "    indx_row = int(row[0])\n",
    "    indx_column = int(row[1])\n",
    "    print(f'被6除餘1的數為: {array1[indx_row][indx_column]}, 索引位置：{row[0]},{row[1]}')"
   ]
  },
  {
   "cell_type": "code",
   "execution_count": null,
   "metadata": {},
   "outputs": [],
   "source": []
  }
 ],
 "metadata": {
  "colab": {
   "collapsed_sections": [],
   "name": "作業_題目Hong.ipynb",
   "provenance": []
  },
  "kernelspec": {
   "display_name": "Python 3",
   "language": "python",
   "name": "python3"
  },
  "language_info": {
   "codemirror_mode": {
    "name": "ipython",
    "version": 3
   },
   "file_extension": ".py",
   "mimetype": "text/x-python",
   "name": "python",
   "nbconvert_exporter": "python",
   "pygments_lexer": "ipython3",
   "version": "3.8.2"
  }
 },
 "nbformat": 4,
 "nbformat_minor": 1
}
