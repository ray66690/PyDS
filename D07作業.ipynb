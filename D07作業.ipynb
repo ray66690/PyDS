{
 "cells": [
  {
   "cell_type": "markdown",
   "metadata": {
    "colab_type": "text",
    "id": "P6xk2_jLsvFF"
   },
   "source": [
    "# [作業目標]\n",
    "\n",
    "1. 請比較對一個 100 x 100 * 100 的陣列，使用不同方法對每一個元素 +1 的時間比較。\n",
    "\n",
    "2. 如何從一個陣列中，找出出現頻率最高的數值與位置？\n",
    "\n",
    "3. 如何利用 list(...) 實現 a.tolist() 的效果？試著用程式實作。\n"
   ]
  },
  {
   "cell_type": "markdown",
   "metadata": {
    "colab_type": "text",
    "id": "uXGll28asvFS"
   },
   "source": [
    "# 作業 "
   ]
  },
  {
   "cell_type": "markdown",
   "metadata": {},
   "source": [
    "### 1. 請比較對一個 1000 x 100 x 100 的陣列，使用不同方法對每一個元素 +1 的時間比較。\n",
    "\n",
    "\n"
   ]
  },
  {
   "cell_type": "code",
   "execution_count": 1,
   "metadata": {},
   "outputs": [],
   "source": [
    "# 記得先 Import 正確的套件\n",
    "import numpy as np\n",
    "import random"
   ]
  },
  {
   "cell_type": "code",
   "execution_count": 23,
   "metadata": {
    "colab": {},
    "colab_type": "code",
    "id": "5QrYoyNWsvFS"
   },
   "outputs": [],
   "source": [
    "array = np.random.randint(0, 10, 1000000).reshape(100, 100, 100)"
   ]
  },
  {
   "cell_type": "code",
   "execution_count": 24,
   "metadata": {
    "scrolled": false
   },
   "outputs": [
    {
     "name": "stdout",
     "output_type": "stream",
     "text": [
      "32.9 ns ± 14.1 ns per loop (mean ± std. dev. of 7 runs, 10 loops each)\n",
      "[[[ 7  8  1 ...  7  5  8]\n",
      "  [ 9 10  8 ...  8  6  9]\n",
      "  [ 4 10 10 ...  1  5  7]\n",
      "  ...\n",
      "  [10  4  1 ...  5  8  8]\n",
      "  [ 8 10  2 ...  4  2  2]\n",
      "  [ 9  3  3 ...  1  9 10]]\n",
      "\n",
      " [[ 3  7  7 ...  6  8  9]\n",
      "  [ 6  1  8 ...  4  3  6]\n",
      "  [ 8  7  3 ...  6 10  8]\n",
      "  ...\n",
      "  [ 2  5  4 ...  6  6  2]\n",
      "  [ 8  3  7 ...  9  8 10]\n",
      "  [ 5 10  1 ...  8  2  6]]\n",
      "\n",
      " [[ 7  6  7 ...  7  2  8]\n",
      "  [10 10  8 ...  6  2  7]\n",
      "  [ 1  7  6 ...  2 10  5]\n",
      "  ...\n",
      "  [10  2  6 ...  1  4  3]\n",
      "  [ 1  4  2 ...  3  5  9]\n",
      "  [ 9  9  1 ...  8  6  4]]\n",
      "\n",
      " ...\n",
      "\n",
      " [[ 7  7  2 ...  6  6  5]\n",
      "  [ 1 10  4 ...  2  6  3]\n",
      "  [ 5 10  8 ...  2  1  4]\n",
      "  ...\n",
      "  [ 2  5 10 ...  3  5  6]\n",
      "  [10  8  7 ...  3  9  1]\n",
      "  [10  7  8 ...  7  2  9]]\n",
      "\n",
      " [[ 8  6  3 ...  3  4  2]\n",
      "  [ 5  1  8 ...  2  3  7]\n",
      "  [ 4  1  3 ...  3  9  3]\n",
      "  ...\n",
      "  [ 1  9  5 ...  4  7 10]\n",
      "  [ 2  7  3 ...  2  6  4]\n",
      "  [ 7  3  4 ...  6  4  2]]\n",
      "\n",
      " [[ 7 10  8 ...  2  4  4]\n",
      "  [ 8  6  3 ...  3  7  5]\n",
      "  [ 1  4  4 ...  9  5  5]\n",
      "  ...\n",
      "  [ 1  5  7 ...  1  9  4]\n",
      "  [ 7  9 10 ...  6  9  9]\n",
      "  [ 7  6  8 ...  8  6  1]]]\n"
     ]
    }
   ],
   "source": [
    "%timeit -n 10 a = 2\n",
    "# 方法一\n",
    "print(array+1)"
   ]
  },
  {
   "cell_type": "code",
   "execution_count": 25,
   "metadata": {
    "scrolled": true
   },
   "outputs": [
    {
     "name": "stdout",
     "output_type": "stream",
     "text": [
      "36.6 ns ± 13.2 ns per loop (mean ± std. dev. of 7 runs, 10 loops each)\n"
     ]
    },
    {
     "data": {
      "text/plain": [
       "array([[[ 7.,  8.,  1., ...,  7.,  5.,  8.],\n",
       "        [ 9., 10.,  8., ...,  8.,  6.,  9.],\n",
       "        [ 4., 10., 10., ...,  1.,  5.,  7.],\n",
       "        ...,\n",
       "        [10.,  4.,  1., ...,  5.,  8.,  8.],\n",
       "        [ 8., 10.,  2., ...,  4.,  2.,  2.],\n",
       "        [ 9.,  3.,  3., ...,  1.,  9., 10.]],\n",
       "\n",
       "       [[ 3.,  7.,  7., ...,  6.,  8.,  9.],\n",
       "        [ 6.,  1.,  8., ...,  4.,  3.,  6.],\n",
       "        [ 8.,  7.,  3., ...,  6., 10.,  8.],\n",
       "        ...,\n",
       "        [ 2.,  5.,  4., ...,  6.,  6.,  2.],\n",
       "        [ 8.,  3.,  7., ...,  9.,  8., 10.],\n",
       "        [ 5., 10.,  1., ...,  8.,  2.,  6.]],\n",
       "\n",
       "       [[ 7.,  6.,  7., ...,  7.,  2.,  8.],\n",
       "        [10., 10.,  8., ...,  6.,  2.,  7.],\n",
       "        [ 1.,  7.,  6., ...,  2., 10.,  5.],\n",
       "        ...,\n",
       "        [10.,  2.,  6., ...,  1.,  4.,  3.],\n",
       "        [ 1.,  4.,  2., ...,  3.,  5.,  9.],\n",
       "        [ 9.,  9.,  1., ...,  8.,  6.,  4.]],\n",
       "\n",
       "       ...,\n",
       "\n",
       "       [[ 7.,  7.,  2., ...,  6.,  6.,  5.],\n",
       "        [ 1., 10.,  4., ...,  2.,  6.,  3.],\n",
       "        [ 5., 10.,  8., ...,  2.,  1.,  4.],\n",
       "        ...,\n",
       "        [ 2.,  5., 10., ...,  3.,  5.,  6.],\n",
       "        [10.,  8.,  7., ...,  3.,  9.,  1.],\n",
       "        [10.,  7.,  8., ...,  7.,  2.,  9.]],\n",
       "\n",
       "       [[ 8.,  6.,  3., ...,  3.,  4.,  2.],\n",
       "        [ 5.,  1.,  8., ...,  2.,  3.,  7.],\n",
       "        [ 4.,  1.,  3., ...,  3.,  9.,  3.],\n",
       "        ...,\n",
       "        [ 1.,  9.,  5., ...,  4.,  7., 10.],\n",
       "        [ 2.,  7.,  3., ...,  2.,  6.,  4.],\n",
       "        [ 7.,  3.,  4., ...,  6.,  4.,  2.]],\n",
       "\n",
       "       [[ 7., 10.,  8., ...,  2.,  4.,  4.],\n",
       "        [ 8.,  6.,  3., ...,  3.,  7.,  5.],\n",
       "        [ 1.,  4.,  4., ...,  9.,  5.,  5.],\n",
       "        ...,\n",
       "        [ 1.,  5.,  7., ...,  1.,  9.,  4.],\n",
       "        [ 7.,  9., 10., ...,  6.,  9.,  9.],\n",
       "        [ 7.,  6.,  8., ...,  8.,  6.,  1.]]])"
      ]
     },
     "execution_count": 25,
     "metadata": {},
     "output_type": "execute_result"
    }
   ],
   "source": [
    "%timeit -n 10 a = 2\n",
    "# 方法二\n",
    "count =0\n",
    "temp_array = np.empty(1000000)\n",
    "for i  in array.flatten():\n",
    "    temp_array[count] = i+1\n",
    "    count +=1\n",
    "temp_array.reshape(100,100,100)"
   ]
  },
  {
   "cell_type": "code",
   "execution_count": 26,
   "metadata": {},
   "outputs": [
    {
     "name": "stdout",
     "output_type": "stream",
     "text": [
      "35.7 ns ± 14.4 ns per loop (mean ± std. dev. of 7 runs, 10 loops each)\n"
     ]
    },
    {
     "data": {
      "text/plain": [
       "array([[[ 7,  8,  1, ...,  7,  5,  8],\n",
       "        [ 9, 10,  8, ...,  8,  6,  9],\n",
       "        [ 4, 10, 10, ...,  1,  5,  7],\n",
       "        ...,\n",
       "        [10,  4,  1, ...,  5,  8,  8],\n",
       "        [ 8, 10,  2, ...,  4,  2,  2],\n",
       "        [ 9,  3,  3, ...,  1,  9, 10]],\n",
       "\n",
       "       [[ 3,  7,  7, ...,  6,  8,  9],\n",
       "        [ 6,  1,  8, ...,  4,  3,  6],\n",
       "        [ 8,  7,  3, ...,  6, 10,  8],\n",
       "        ...,\n",
       "        [ 2,  5,  4, ...,  6,  6,  2],\n",
       "        [ 8,  3,  7, ...,  9,  8, 10],\n",
       "        [ 5, 10,  1, ...,  8,  2,  6]],\n",
       "\n",
       "       [[ 7,  6,  7, ...,  7,  2,  8],\n",
       "        [10, 10,  8, ...,  6,  2,  7],\n",
       "        [ 1,  7,  6, ...,  2, 10,  5],\n",
       "        ...,\n",
       "        [10,  2,  6, ...,  1,  4,  3],\n",
       "        [ 1,  4,  2, ...,  3,  5,  9],\n",
       "        [ 9,  9,  1, ...,  8,  6,  4]],\n",
       "\n",
       "       ...,\n",
       "\n",
       "       [[ 7,  7,  2, ...,  6,  6,  5],\n",
       "        [ 1, 10,  4, ...,  2,  6,  3],\n",
       "        [ 5, 10,  8, ...,  2,  1,  4],\n",
       "        ...,\n",
       "        [ 2,  5, 10, ...,  3,  5,  6],\n",
       "        [10,  8,  7, ...,  3,  9,  1],\n",
       "        [10,  7,  8, ...,  7,  2,  9]],\n",
       "\n",
       "       [[ 8,  6,  3, ...,  3,  4,  2],\n",
       "        [ 5,  1,  8, ...,  2,  3,  7],\n",
       "        [ 4,  1,  3, ...,  3,  9,  3],\n",
       "        ...,\n",
       "        [ 1,  9,  5, ...,  4,  7, 10],\n",
       "        [ 2,  7,  3, ...,  2,  6,  4],\n",
       "        [ 7,  3,  4, ...,  6,  4,  2]],\n",
       "\n",
       "       [[ 7, 10,  8, ...,  2,  4,  4],\n",
       "        [ 8,  6,  3, ...,  3,  7,  5],\n",
       "        [ 1,  4,  4, ...,  9,  5,  5],\n",
       "        ...,\n",
       "        [ 1,  5,  7, ...,  1,  9,  4],\n",
       "        [ 7,  9, 10, ...,  6,  9,  9],\n",
       "        [ 7,  6,  8, ...,  8,  6,  1]]])"
      ]
     },
     "execution_count": 26,
     "metadata": {},
     "output_type": "execute_result"
    }
   ],
   "source": [
    "%timeit -n 10 a = 2\n",
    "#方法三\n",
    "np.add(array,1)"
   ]
  },
  {
   "cell_type": "markdown",
   "metadata": {},
   "source": [
    "### 2. 如何從一個陣列中，找出出現頻率最高的數值與位置？\n"
   ]
  },
  {
   "cell_type": "code",
   "execution_count": 27,
   "metadata": {
    "colab": {},
    "colab_type": "code",
    "id": "e1gVI0tvsvFY"
   },
   "outputs": [
    {
     "name": "stdout",
     "output_type": "stream",
     "text": [
      "[6 7 0 2 8 3 2 7 2 3 6 9 5 9 6 7 5 1 9 4 3 4 0 2 8 3 5 8 9 3 8 6 3 2 9 8 0\n",
      " 5 6 4 0 8 4 8 1 0 6 9 4 4]\n"
     ]
    }
   ],
   "source": [
    "\n",
    "Z = np.random.randint(0,10,50)\n",
    "print(Z)\n"
   ]
  },
  {
   "cell_type": "code",
   "execution_count": 34,
   "metadata": {},
   "outputs": [
    {
     "name": "stdout",
     "output_type": "stream",
     "text": [
      "眾數為: 8，出現次數： 7次\n"
     ]
    }
   ],
   "source": [
    "def Add_dict(dict,key,count):\n",
    "    if key not in dict:\n",
    "        dict[key] = \" \"\n",
    "    dict[key] = count\n",
    "    \n",
    "count_dict = {}\n",
    "for num in Z:\n",
    "    count =0\n",
    "    for i in range(len(Z)):\n",
    "        if num == Z[i]:\n",
    "            count +=1\n",
    "    Add_dict(count_dict,num,count)\n",
    "    \n",
    "#找出眾數\n",
    "for key in count_dict:\n",
    "    if count_dict[key] == max(count_dict.values()):\n",
    "        mode = key\n",
    "print(f'眾數為: {mode}，出現次數： {max(count_dict.values())}次')"
   ]
  },
  {
   "cell_type": "code",
   "execution_count": 35,
   "metadata": {},
   "outputs": [
    {
     "name": "stdout",
     "output_type": "stream",
     "text": [
      "出現眾數8 的位置： 4\n",
      "出現眾數8 的位置： 24\n",
      "出現眾數8 的位置： 27\n",
      "出現眾數8 的位置： 30\n",
      "出現眾數8 的位置： 35\n",
      "出現眾數8 的位置： 41\n",
      "出現眾數8 的位置： 43\n"
     ]
    }
   ],
   "source": [
    "# 眾數出現在數列的位置\n",
    "for index in range(len(Z)):\n",
    "    if Z[index] == mode:\n",
    "        print(f'出現眾數{mode} 的位置： {index}')"
   ]
  },
  {
   "cell_type": "markdown",
   "metadata": {},
   "source": [
    "### 3. 如何利用 list(...) 實現 a.tolist() 的效果？試著用程式實作。\n"
   ]
  },
  {
   "cell_type": "code",
   "execution_count": null,
   "metadata": {},
   "outputs": [],
   "source": [
    "a = np.random.randint(10, size=6) \n",
    "\n",
    "print(a.tolist())\n",
    "print(list(a))\n",
    "\n",
    "\n",
    "b = np.random.randint(10, size=(3,4)) \n",
    "\n",
    "print(b.tolist())\n",
    "print(list(b))\n",
    "\n",
    "\n",
    "c = np.random.randint(10, size=(2,3,2)) \n",
    "\n",
    "print(c.tolist())\n",
    "print(list(c))\n"
   ]
  },
  {
   "cell_type": "code",
   "execution_count": 36,
   "metadata": {},
   "outputs": [
    {
     "name": "stdout",
     "output_type": "stream",
     "text": [
      "[6, 5, 5, 7, 0, 10]\n"
     ]
    }
   ],
   "source": [
    "# ㄧ維數列，數字範圍0~10\n",
    "a_list = []\n",
    "for _ in range(6):\n",
    "    a_list.append(random.randint(0,10))\n",
    "    \n",
    "print(a_list)"
   ]
  },
  {
   "cell_type": "code",
   "execution_count": 38,
   "metadata": {},
   "outputs": [
    {
     "data": {
      "text/plain": [
       "[[5, 7, 5, 7], [1, 0, 4, 3], [1, 1, 9, 3]]"
      ]
     },
     "execution_count": 38,
     "metadata": {},
     "output_type": "execute_result"
    }
   ],
   "source": [
    "#二維數列，數字範圍0~10\n",
    "a_list = []\n",
    "b_list = []\n",
    "for _ in range(3):                             # Row\n",
    "    for _ in range(4):                         # Column\n",
    "        a_list.append(random.randint(0,10))\n",
    "    b_list.append(a_list)\n",
    "    a_list = []\n",
    "b_list"
   ]
  },
  {
   "cell_type": "code",
   "execution_count": 39,
   "metadata": {},
   "outputs": [
    {
     "data": {
      "text/plain": [
       "[[[4, 7], [9, 1], [3, 6]], [[8, 9], [10, 1], [2, 8]]]"
      ]
     },
     "execution_count": 39,
     "metadata": {},
     "output_type": "execute_result"
    }
   ],
   "source": [
    "#三維數列，數字範圍0~10\n",
    "a_list = []\n",
    "b_list = []\n",
    "c_list = []\n",
    "for _ in range(2):                                 # Layer\n",
    "    for _ in range(3):                             # Row\n",
    "        for _ in range(2):                         # Column\n",
    "            a_list.append(random.randint(0,10))\n",
    "        b_list.append(a_list)\n",
    "        a_list = []\n",
    "    c_list.append(b_list)\n",
    "    b_list = []\n",
    "c_list"
   ]
  },
  {
   "cell_type": "code",
   "execution_count": null,
   "metadata": {},
   "outputs": [],
   "source": []
  }
 ],
 "metadata": {
  "colab": {
   "name": "Day_023_HW.ipynb",
   "provenance": []
  },
  "kernelspec": {
   "display_name": "Python 3",
   "language": "python",
   "name": "python3"
  },
  "language_info": {
   "codemirror_mode": {
    "name": "ipython",
    "version": 3
   },
   "file_extension": ".py",
   "mimetype": "text/x-python",
   "name": "python",
   "nbconvert_exporter": "python",
   "pygments_lexer": "ipython3",
   "version": "3.8.2"
  }
 },
 "nbformat": 4,
 "nbformat_minor": 1
}
